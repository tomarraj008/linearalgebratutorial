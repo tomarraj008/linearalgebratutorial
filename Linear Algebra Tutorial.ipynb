{
 "cells": [
  {
   "cell_type": "markdown",
   "metadata": {},
   "source": [
    "# Linear Algebra Tutorial\n",
    "## April 21, 2016 -- Stephen Roller <roller@cs.utexas.edu>\n",
    "\n",
    "### Overview\n",
    "- What is Linear Algebra\n",
    "- Definitions\n",
    "    - Scalar, Matrix, Vector\n",
    "- Operations\n",
    "    - Scalar, vector addition\n",
    "    - Inner product\n",
    "    - Matrix multiplication\n",
    "    - Transpose\n",
    "- Special Matrices\n",
    "    - Identity\n",
    "    - Inverses\n",
    "    - Unitary\n",
    "    - Other: Symmetric, Diagonal\n",
    "- Norms, Similarity Measures\n",
    "- Singular Value Decomposition\n",
    "    - Definition\n",
    "    - Interpretations (change of basis, rotation and skew, etc)\n",
    "    - Usefulness\n",
    "- Honorary Mentions\n",
    "    - Eigendecomposition\n",
    "    - Scipy.sparse\n",
    "    - Scikit-learn"
   ]
  },
  {
   "cell_type": "markdown",
   "metadata": {},
   "source": [
    "# Linear Equations\n",
    "\n",
    "There are different interpretations of Linear Algebra, but the one typically used in introductory texts is that Linear Algebra is about systems of linear equations. You may remember linear equations from algebra class. They often have a form\n",
    "\n",
    "\\begin{align}\n",
    "    f(x) = mx + b\n",
    "\\end{align}\n",
    "\n",
    "In this *linear equation*, x is the *variable*, m and b are *parameters* of the equation. This function only has one variable and two parameters, but we can generalize it to have more parameters:\n",
    "\n",
    "\\begin{align}\n",
    "    f(x,y,z) = ax + by + cz + d\n",
    "\\end{align}\n",
    "\n",
    "This equation has 3 variables and 4 parameters. But how do we represent equations with an arbitrary number of variables? This is where *vectors* comes into play. In regular Algebra class, most of the numbers you see are called *scalars*: they're just a number, which could be a Real number ($x \\in R$), or an Integer ($x \\in Z$) or an imaginary number ($x \\in C$). A vector is a generalization of this, where a quantity can hold multiple values.\n",
    "\n",
    "For example, we can define a vector ${\\bf x} \\in R^3$, which is a real-valued vector with three dimensions. Perhaps ${\\bf x}$ has the following value:\n",
    "\n",
    "\\begin{align}\n",
    "    {\\bf x} = \\begin{pmatrix}1\\\\4\\\\3\\end{pmatrix}\n",
    "\\end{align}\n",
    "\n",
    "What does this mean? Well, that's up to you. If we were in physics, perhaps ${\\bf x}$ is the position of an object. Maybe it's 1 foot in front of me, 4 feet to my left, and 3 feet above my head. In Computational Linguistics, we'll typically see these dimensions either correspond to particular features, or maybe co-occurrence counts, or latent semantic representations, or any number of things.\n",
    "\n",
    "Vectors have a number of operations on them. For example, we can do scalar-vector multiplication, addition, etc.\n",
    "\n",
    "\\begin{align}\n",
    "    2 + {\\bf x} & =\\begin{pmatrix}2 + 1\\\\2 + 4\\\\2 + 3\\end{pmatrix} = \\begin{pmatrix}3\\\\6\\\\5\\end{pmatrix}\\\\\n",
    "    2{\\bf x} & = \\begin{pmatrix}2 * 1\\\\2 * 4\\\\2 * 3\\end{pmatrix} = \\begin{pmatrix}2\\\\8\\\\6\\end{pmatrix}\\\\\n",
    "    -{\\bf x} & = \\begin{pmatrix}-1\\\\-4\\\\-3\\end{pmatrix}\\\\\n",
    "\\end{align}\n",
    "\n",
    "\n"
   ]
  },
  {
   "cell_type": "markdown",
   "metadata": {},
   "source": [
    "# Motivation as CompLing\n",
    "\n",
    "So I work mostly in Distributional Semantics, where all words are encoded as vectors. The following is kind of the standard \"intro to Distributional Semantics\" picture. In Distributional Semantics, we're count all of the contexts in which a word appears, and use these to create a vector for each word. Given that we're going to model words as vectors, having a good understanding of Linear Algebra can be very helpful.\n",
    "\n",
    "![distsem](http://i.imgur.com/SvAGdtT.png)"
   ]
  },
  {
   "cell_type": "markdown",
   "metadata": {},
   "source": [
    "## Demo time"
   ]
  },
  {
   "cell_type": "code",
   "execution_count": 660,
   "metadata": {
    "collapsed": false
   },
   "outputs": [],
   "source": [
    "# This is necessary to make sure equations and graphs appear directly in this document\n",
    "%matplotlib inline\n",
    "# We're going to be using a lot of Numpy\n",
    "import numpy as np\n",
    "import pylab as plt\n",
    "# this makes it so something like .0000000012 just shows up as 0.0 instead of 1.2e-9\n",
    "np.set_printoptions(suppress=True)\n",
    "\n",
    "# I use this code to make some of the pretty plots. Matplotlib is a horrible, unusuable mess though.\n",
    "def norm(x):\n",
    "    return x/np.sqrt(x.dot(x))\n",
    "\n",
    "def plot_vectors(vectors, labels=None, starts=None):\n",
    "    colors = 'rbgyk'\n",
    "    vectors = np.array(vectors)\n",
    "    # clear the plot\n",
    "    plt.clf()\n",
    "    fig = plt.figure(figsize=(5, 5))\n",
    "    if starts is None:\n",
    "        starts = vectors * 0\n",
    "    minbound = min((vectors + starts).min()-1, -1)\n",
    "    maxbound = (vectors + starts).max()+1\n",
    "    plt.xticks(np.arange(minbound, maxbound))\n",
    "    plt.yticks(np.arange(minbound, maxbound))\n",
    "    plt.xlim([minbound, maxbound])\n",
    "    plt.ylim([minbound, maxbound])\n",
    "    for i in xrange(len(vectors)-1, -1, -1):\n",
    "        v = vectors[i]\n",
    "        color=colors[i]\n",
    "        s = starts[i]\n",
    "        plt.quiver(s[0], s[1], v[0], v[1], angles='xy', scale_units='xy', scale=1, color=color)\n",
    "        if labels:\n",
    "            mid = 0.5*(v) + s\n",
    "            offset = (v).dot((np.array([0, -1, 1, 0]).reshape(2, 2)))\n",
    "            offset = 0.25*norm(offset)\n",
    "            pos = offset\n",
    "            plt.text(mid[0]+pos[0], mid[1]+pos[1], labels[i], color=color)\n",
    "    plt.show()\n",
    "\n",
    "# we'll need this sometimes\n",
    "zero2 = np.zeros(2)"
   ]
  },
  {
   "cell_type": "code",
   "execution_count": 661,
   "metadata": {
    "collapsed": false
   },
   "outputs": [
    {
     "data": {
      "text/plain": [
       "<matplotlib.figure.Figure at 0x108a8cb90>"
      ]
     },
     "metadata": {},
     "output_type": "display_data"
    },
    {
     "data": {
      "image/png": "[encoded data removed]",
      "text/plain": [
       "<matplotlib.figure.Figure at 0x108840a50>"
      ]
     },
     "metadata": {},
     "output_type": "display_data"
    }
   ],
   "source": [
    "x = np.array([1, 4])\n",
    "plot_vectors([x], [\"x\"])"
   ]
  },
  {
   "cell_type": "code",
   "execution_count": 662,
   "metadata": {
    "collapsed": false
   },
   "outputs": [
    {
     "data": {
      "text/plain": [
       "array([2, 8])"
      ]
     },
     "execution_count": 662,
     "metadata": {},
     "output_type": "execute_result"
    }
   ],
   "source": [
    "# Now let's define a vector and try vector-scalar:\n",
    "x = np.array([1, 4])\n",
    "2 * x\n",
    "# = [2 * 1, 2 * 4]"
   ]
  },
  {
   "cell_type": "code",
   "execution_count": 663,
   "metadata": {
    "collapsed": false
   },
   "outputs": [
    {
     "data": {
      "text/plain": [
       "<matplotlib.figure.Figure at 0x1078eb910>"
      ]
     },
     "metadata": {},
     "output_type": "display_data"
    },
    {
     "data": {
      "image/png": "[encoded data removed]",
      "text/plain": [
       "<matplotlib.figure.Figure at 0x107106610>"
      ]
     },
     "metadata": {},
     "output_type": "display_data"
    }
   ],
   "source": [
    "plot_vectors([x, 2 * x], [\"x\", \"2x\"])"
   ]
  },
  {
   "cell_type": "code",
   "execution_count": 664,
   "metadata": {
    "collapsed": false
   },
   "outputs": [
    {
     "data": {
      "text/plain": [
       "array([5, 3])"
      ]
     },
     "execution_count": 664,
     "metadata": {},
     "output_type": "execute_result"
    }
   ],
   "source": [
    "# Vector addition:\n",
    "y = np.array([4, -1])\n",
    "x + y\n",
    "# = [1 + 4, 4 - 1]"
   ]
  },
  {
   "cell_type": "code",
   "execution_count": 665,
   "metadata": {
    "collapsed": false
   },
   "outputs": [
    {
     "data": {
      "text/plain": [
       "<matplotlib.figure.Figure at 0x10773a7d0>"
      ]
     },
     "metadata": {},
     "output_type": "display_data"
    },
    {
     "data": {
      "image/png": "[encoded data removed]",
      "text/plain": [
       "<matplotlib.figure.Figure at 0x10735bd90>"
      ]
     },
     "metadata": {},
     "output_type": "display_data"
    }
   ],
   "source": [
    "plot_vectors([x, y, x + y], starts=[zero2, x, zero2], labels=[\"x\", \"y\", \"x+y\"])"
   ]
  },
  {
   "cell_type": "markdown",
   "metadata": {},
   "source": [
    "### Indexing\n",
    "\n",
    "It's also useful to be able to *index* into vectors, to extract or set their value for one particular dimension. In this tutorial, we use 0-based indexing, though most math textbooks will typically use 1-based indexing.\n",
    "\n",
    "So $x_0$ is the first element of $\\bf x$, and $x_1$ is the second, etc."
   ]
  },
  {
   "cell_type": "code",
   "execution_count": 673,
   "metadata": {
    "collapsed": false
   },
   "outputs": [],
   "source": [
    "# Indexing time!\n",
    "x = np.array([1, 2, 3])"
   ]
  },
  {
   "cell_type": "code",
   "execution_count": 667,
   "metadata": {
    "collapsed": false
   },
   "outputs": [
    {
     "data": {
      "text/plain": [
       "1"
      ]
     },
     "execution_count": 667,
     "metadata": {},
     "output_type": "execute_result"
    }
   ],
   "source": [
    "x[0]"
   ]
  },
  {
   "cell_type": "code",
   "execution_count": 674,
   "metadata": {
    "collapsed": false
   },
   "outputs": [
    {
     "data": {
      "text/plain": [
       "2"
      ]
     },
     "execution_count": 674,
     "metadata": {},
     "output_type": "execute_result"
    }
   ],
   "source": [
    "x[1]"
   ]
  },
  {
   "cell_type": "code",
   "execution_count": 675,
   "metadata": {
    "collapsed": false
   },
   "outputs": [
    {
     "data": {
      "text/plain": [
       "3"
      ]
     },
     "execution_count": 675,
     "metadata": {},
     "output_type": "execute_result"
    }
   ],
   "source": [
    "# numpy also lets us use negative indices, which count *backwards*\n",
    "x[-1]"
   ]
  },
  {
   "cell_type": "code",
   "execution_count": 677,
   "metadata": {
    "collapsed": false
   },
   "outputs": [
    {
     "data": {
      "text/plain": [
       "array([False,  True,  True], dtype=bool)"
      ]
     },
     "execution_count": 677,
     "metadata": {},
     "output_type": "execute_result"
    }
   ],
   "source": [
    "# and we can also do boolean masks\n",
    "x >= 2"
   ]
  },
  {
   "cell_type": "code",
   "execution_count": 678,
   "metadata": {
    "collapsed": false
   },
   "outputs": [
    {
     "data": {
      "text/plain": [
       "array([2, 3])"
      ]
     },
     "execution_count": 678,
     "metadata": {},
     "output_type": "execute_result"
    }
   ],
   "source": [
    "x[np.array([False, True, True])]"
   ]
  },
  {
   "cell_type": "code",
   "execution_count": 680,
   "metadata": {
    "collapsed": false
   },
   "outputs": [
    {
     "data": {
      "text/plain": [
       "array([2, 3])"
      ]
     },
     "execution_count": 680,
     "metadata": {},
     "output_type": "execute_result"
    }
   ],
   "source": [
    "x[x >= 2]"
   ]
  },
  {
   "cell_type": "markdown",
   "metadata": {
    "collapsed": true
   },
   "source": [
    "# Matrices and Matrix Multiplication\n",
    "\n",
    "So far we've seen scalars, which are singleton numbers, and vectors, which is an array of numbers. We can also introduce the generalization: the matrix. A matrix is a two dimensional array of numbers.\n",
    "\n",
    "Notation-wise scalars are in italics, vectors are in bold, matrices are usually capitalized.\n",
    "\n",
    "\\begin{align}\n",
    "    {\\bf A} = \\begin{pmatrix}1 & 2 & 3\\\\4 & 5 & 6\\end{pmatrix}\n",
    "\\end{align}\n",
    "\n",
    "We say that matrix $A \\in R^{2\\times3}$, meaning A has two rows and 3 columns.\n",
    "\n",
    "A can have any positive number of rows and columns. If the number of rows and columns are equal, then A is **square**. If A has only 1 column, then A is also a **column vector**, and if A has only 1 row, then it's a **row vector**. If A has 1 row and 1 column, then A is a scalar.\n",
    "\n",
    "## Operations\n",
    "Matrices also have the same scalar multiplication and addition properties as vectors, being they are done element wise."
   ]
  },
  {
   "cell_type": "code",
   "execution_count": 681,
   "metadata": {
    "collapsed": false
   },
   "outputs": [
    {
     "data": {
      "text/plain": [
       "array([[1, 2, 3],\n",
       "       [4, 5, 6]])"
      ]
     },
     "execution_count": 681,
     "metadata": {},
     "output_type": "execute_result"
    }
   ],
   "source": [
    "# Define a matrix\n",
    "A = np.array([np.array([1, 2, 3]), np.array([4, 5, 6])])\n",
    "A"
   ]
  },
  {
   "cell_type": "code",
   "execution_count": 682,
   "metadata": {
    "collapsed": false
   },
   "outputs": [
    {
     "data": {
      "text/plain": [
       "array([[1, 2, 3],\n",
       "       [4, 5, 6]])"
      ]
     },
     "execution_count": 682,
     "metadata": {},
     "output_type": "execute_result"
    }
   ],
   "source": [
    "# You won't be hand-typing matrices very often, but it can also be useful to know this trick:\n",
    "A = np.array([1, 2, 3, 4, 5, 6]).reshape(2, 3)\n",
    "A"
   ]
  },
  {
   "cell_type": "code",
   "execution_count": 683,
   "metadata": {
    "collapsed": false
   },
   "outputs": [
    {
     "data": {
      "text/plain": [
       "array([[2, 3, 4],\n",
       "       [5, 6, 7]])"
      ]
     },
     "execution_count": 683,
     "metadata": {},
     "output_type": "execute_result"
    }
   ],
   "source": [
    "# Scalar addition is element wise\n",
    "A + 1"
   ]
  },
  {
   "cell_type": "code",
   "execution_count": 684,
   "metadata": {
    "collapsed": false
   },
   "outputs": [
    {
     "data": {
      "text/plain": [
       "array([[ -2,  -4,  -6],\n",
       "       [ -8, -10, -12]])"
      ]
     },
     "execution_count": 684,
     "metadata": {},
     "output_type": "execute_result"
    }
   ],
   "source": [
    "# as is scalar multiplication\n",
    "-2 * A"
   ]
  },
  {
   "cell_type": "code",
   "execution_count": 685,
   "metadata": {
    "collapsed": false
   },
   "outputs": [
    {
     "data": {
      "text/plain": [
       "array([[0, 0, 0],\n",
       "       [0, 0, 0]])"
      ]
     },
     "execution_count": 685,
     "metadata": {},
     "output_type": "execute_result"
    }
   ],
   "source": [
    "# and is matrix addition\n",
    "B = np.array([-1, -2, -3, \n",
    "              -4, -5, -6]).reshape(2, 3)\n",
    "A + B"
   ]
  },
  {
   "cell_type": "code",
   "execution_count": 686,
   "metadata": {
    "collapsed": false
   },
   "outputs": [
    {
     "ename": "ValueError",
     "evalue": "operands could not be broadcast together with shapes (2,3) (2,2) ",
     "output_type": "error",
     "traceback": [
      "\u001b[0;31m---------------------------------------------------------------------------\u001b[0m",
      "\u001b[0;31mValueError\u001b[0m                                Traceback (most recent call last)",
      "\u001b[0;32m<ipython-input-686-031e8f1f3ec5>\u001b[0m in \u001b[0;36m<module>\u001b[0;34m()\u001b[0m\n\u001b[1;32m      1\u001b[0m \u001b[0;31m# Mind that dimensions must line up though!\u001b[0m\u001b[0;34m\u001b[0m\u001b[0;34m\u001b[0m\u001b[0m\n\u001b[1;32m      2\u001b[0m \u001b[0mC\u001b[0m \u001b[0;34m=\u001b[0m \u001b[0mnp\u001b[0m\u001b[0;34m.\u001b[0m\u001b[0marray\u001b[0m\u001b[0;34m(\u001b[0m\u001b[0;34m[\u001b[0m\u001b[0;36m1\u001b[0m\u001b[0;34m,\u001b[0m \u001b[0;36m2\u001b[0m\u001b[0;34m,\u001b[0m \u001b[0;36m3\u001b[0m\u001b[0;34m,\u001b[0m \u001b[0;36m4\u001b[0m\u001b[0;34m]\u001b[0m\u001b[0;34m)\u001b[0m\u001b[0;34m.\u001b[0m\u001b[0mreshape\u001b[0m\u001b[0;34m(\u001b[0m\u001b[0;36m2\u001b[0m\u001b[0;34m,\u001b[0m \u001b[0;36m2\u001b[0m\u001b[0;34m)\u001b[0m\u001b[0;34m\u001b[0m\u001b[0m\n\u001b[0;32m----> 3\u001b[0;31m \u001b[0mA\u001b[0m \u001b[0;34m+\u001b[0m \u001b[0mC\u001b[0m\u001b[0;34m\u001b[0m\u001b[0m\n\u001b[0m\u001b[1;32m      4\u001b[0m \u001b[0;31m# can't add a (2, 3) matrix with a (2, 2) matrix\u001b[0m\u001b[0;34m\u001b[0m\u001b[0;34m\u001b[0m\u001b[0m\n",
      "\u001b[0;31mValueError\u001b[0m: operands could not be broadcast together with shapes (2,3) (2,2) "
     ]
    }
   ],
   "source": [
    "# Mind that dimensions must line up though!\n",
    "C = np.array([1, 2, 3, 4]).reshape(2, 2)\n",
    "A + C\n",
    "# can't add a (2, 3) matrix with a (2, 2) matrix"
   ]
  },
  {
   "cell_type": "code",
   "execution_count": 687,
   "metadata": {
    "collapsed": false
   },
   "outputs": [
    {
     "data": {
      "text/plain": [
       "array([[2, 4, 6],\n",
       "       [5, 7, 9]])"
      ]
     },
     "execution_count": 687,
     "metadata": {},
     "output_type": "execute_result"
    }
   ],
   "source": [
    "# Strictly speaking, this is poor mathematics,\n",
    "# but it's often abused notation in the ML community:\n",
    "# adding a vector with a matrix is interpreted as \"broadcasting\" or \"repeating\"\n",
    "# the vector across the matrix and then adding\n",
    "A + np.array([1, 2, 3])\n",
    "# = [A[0] + x;\n",
    "#    A[1] + x]"
   ]
  },
  {
   "cell_type": "code",
   "execution_count": 688,
   "metadata": {
    "collapsed": false
   },
   "outputs": [
    {
     "data": {
      "text/plain": [
       "2"
      ]
     },
     "execution_count": 688,
     "metadata": {},
     "output_type": "execute_result"
    }
   ],
   "source": [
    "# Matrices can also be indexed, but now they have two dimensions\n",
    "A[0,1]\n",
    "# first row, second column"
   ]
  },
  {
   "cell_type": "code",
   "execution_count": 689,
   "metadata": {
    "collapsed": false
   },
   "outputs": [
    {
     "data": {
      "text/plain": [
       "array([1, 2, 3])"
      ]
     },
     "execution_count": 689,
     "metadata": {},
     "output_type": "execute_result"
    }
   ],
   "source": [
    "# We can also index into rows\n",
    "A[0]\n",
    "# (the first row)"
   ]
  },
  {
   "cell_type": "code",
   "execution_count": 690,
   "metadata": {
    "collapsed": false
   },
   "outputs": [
    {
     "data": {
      "text/plain": [
       "array([2, 5])"
      ]
     },
     "execution_count": 690,
     "metadata": {},
     "output_type": "execute_result"
    }
   ],
   "source": [
    "# or into columns:\n",
    "A[:,1]\n",
    "# (the second column)"
   ]
  },
  {
   "cell_type": "markdown",
   "metadata": {},
   "source": [
    "# Multiplication\n",
    "\n",
    "So far we've seen how to do addition and scalar multiplication with matrices and vectors, but we haven't talked about multiplication. So far you may expect that matrix multiplication is also done element-wise, but it is not. Element-wise multiplication is sometimes called the Hadamard product, and is notated as $A \\odot B$. But it's used *very* rarely.\n",
    "\n",
    "Before we get to matrix multiplication, we'll talk about the **dot product** or the **inner product** of two vectors. The dot product between two vectors, ${\\bf x} \\cdot {\\bf y}$ is defined by an element-wise multiplication, and then the sum over these components.\n",
    "\\begin{align}\n",
    "    {\\bf x}\\cdot{\\bf y} = \\sum_{i=1}^n (x_i \\times y_i)\n",
    "\\end{align}\n",
    "\n",
    "Note that the dot product takes **two vectors** and returns a **scalar**."
   ]
  },
  {
   "cell_type": "code",
   "execution_count": 695,
   "metadata": {
    "collapsed": false
   },
   "outputs": [
    {
     "data": {
      "text/plain": [
       "6"
      ]
     },
     "execution_count": 695,
     "metadata": {},
     "output_type": "execute_result"
    }
   ],
   "source": [
    "x = np.array([1, 4, 3])\n",
    "y = np.array([4, -1, 2])\n",
    "# Let's try out the dot product now\n",
    "x.dot(y)\n",
    "# (1 * 4) + (4 * -1) + (3 * 2) = 6"
   ]
  },
  {
   "cell_type": "code",
   "execution_count": 696,
   "metadata": {
    "collapsed": false
   },
   "outputs": [
    {
     "ename": "ValueError",
     "evalue": "shapes (3,) and (2,) not aligned: 3 (dim 0) != 2 (dim 0)",
     "output_type": "error",
     "traceback": [
      "\u001b[0;31m---------------------------------------------------------------------------\u001b[0m",
      "\u001b[0;31mValueError\u001b[0m                                Traceback (most recent call last)",
      "\u001b[0;32m<ipython-input-696-b2d054cd3852>\u001b[0m in \u001b[0;36m<module>\u001b[0;34m()\u001b[0m\n\u001b[1;32m      1\u001b[0m \u001b[0;31m# Remember vectors have to be the same dimensionality to have the dot product taken\u001b[0m\u001b[0;34m\u001b[0m\u001b[0;34m\u001b[0m\u001b[0m\n\u001b[1;32m      2\u001b[0m \u001b[0mtwodim\u001b[0m \u001b[0;34m=\u001b[0m \u001b[0mnp\u001b[0m\u001b[0;34m.\u001b[0m\u001b[0marray\u001b[0m\u001b[0;34m(\u001b[0m\u001b[0;34m[\u001b[0m\u001b[0;36m1\u001b[0m\u001b[0;34m,\u001b[0m \u001b[0;36m1\u001b[0m\u001b[0;34m]\u001b[0m\u001b[0;34m)\u001b[0m\u001b[0;34m\u001b[0m\u001b[0m\n\u001b[0;32m----> 3\u001b[0;31m \u001b[0mx\u001b[0m\u001b[0;34m.\u001b[0m\u001b[0mdot\u001b[0m\u001b[0;34m(\u001b[0m\u001b[0mtwodim\u001b[0m\u001b[0;34m)\u001b[0m\u001b[0;34m\u001b[0m\u001b[0m\n\u001b[0m\u001b[1;32m      4\u001b[0m \u001b[0;31m# can't take the product of (3,) vector and a (2,) vector\u001b[0m\u001b[0;34m\u001b[0m\u001b[0;34m\u001b[0m\u001b[0m\n",
      "\u001b[0;31mValueError\u001b[0m: shapes (3,) and (2,) not aligned: 3 (dim 0) != 2 (dim 0)"
     ]
    }
   ],
   "source": [
    "# Remember vectors have to be the same dimensionality to have the dot product taken\n",
    "twodim = np.array([1, 1])\n",
    "x.dot(twodim)\n",
    "# can't take the product of (3,) vector and a (2,) vector"
   ]
  },
  {
   "cell_type": "markdown",
   "metadata": {},
   "source": [
    "## Matrix-vector multiplication\n",
    "\n",
    "Now we'll define Matrix-vector multiplication. This helps us build up to Matrix-Matrix multiplication.\n",
    "\n",
    "Matrix-vector multiplication works like taking multiple dot products in a row.\n",
    "\n",
    "\\begin{align}\n",
    "A{\\bf x} = \\begin{pmatrix}{\\bf A_0} \\cdot {\\bf x}\\\\{\\bf A_1} \\cdot {\\bf x}\\\\\\ldots\\end{pmatrix}\n",
    "\\end{align}\n",
    "\n",
    "That is, for every **row** in $A$, we're going to take its dot product with $x$."
   ]
  },
  {
   "cell_type": "code",
   "execution_count": 697,
   "metadata": {
    "collapsed": false
   },
   "outputs": [
    {
     "data": {
      "text/plain": [
       "3.0"
      ]
     },
     "execution_count": 697,
     "metadata": {},
     "output_type": "execute_result"
    }
   ],
   "source": [
    "x = np.array([1, 4])\n",
    "A = np.array([1, 0.5,\n",
    "              -2, 0.5]).reshape(2, 2)\n",
    "A[0].dot(x)"
   ]
  },
  {
   "cell_type": "code",
   "execution_count": 698,
   "metadata": {
    "collapsed": false
   },
   "outputs": [
    {
     "data": {
      "text/plain": [
       "0.0"
      ]
     },
     "execution_count": 698,
     "metadata": {},
     "output_type": "execute_result"
    }
   ],
   "source": [
    "A[1].dot(x)"
   ]
  },
  {
   "cell_type": "code",
   "execution_count": 699,
   "metadata": {
    "collapsed": false
   },
   "outputs": [
    {
     "data": {
      "text/plain": [
       "array([ 3.,  0.])"
      ]
     },
     "execution_count": 699,
     "metadata": {},
     "output_type": "execute_result"
    }
   ],
   "source": [
    "A.dot(x)"
   ]
  },
  {
   "cell_type": "markdown",
   "metadata": {},
   "source": [
    "Matrices can be viewed as *linear transformations*. That is, they act as a combination of **rotations**, **flips**, **scales** and **skews**."
   ]
  },
  {
   "cell_type": "code",
   "execution_count": 700,
   "metadata": {
    "collapsed": false
   },
   "outputs": [
    {
     "data": {
      "text/plain": [
       "<matplotlib.figure.Figure at 0x1079fc890>"
      ]
     },
     "metadata": {},
     "output_type": "display_data"
    },
    {
     "data": {
      "image/png": "[encoded data removed]",
      "text/plain": [
       "<matplotlib.figure.Figure at 0x108976a90>"
      ]
     },
     "metadata": {},
     "output_type": "display_data"
    }
   ],
   "source": [
    "x = np.array([1, 4])\n",
    "y = np.array([2, 1])\n",
    "scale = np.array([2, 0,\n",
    "                  0, 2]).reshape(2, 2)\n",
    "#plot_vectors([x, y, A.dot(x), A.dot(y)], [\"x\", \"y\", \"Ax\", \"Ay\"])\n",
    "plot_vectors([x, y, scale.dot(x), scale.dot(y)], [\"x\", \"y\", \"Scale-x\", \"Scale-y\"])"
   ]
  },
  {
   "cell_type": "code",
   "execution_count": 701,
   "metadata": {
    "collapsed": false
   },
   "outputs": [
    {
     "data": {
      "text/plain": [
       "<matplotlib.figure.Figure at 0x10723f150>"
      ]
     },
     "metadata": {},
     "output_type": "display_data"
    },
    {
     "data": {
      "image/png": "[encoded data removed]",
      "text/plain": [
       "<matplotlib.figure.Figure at 0x10780d350>"
      ]
     },
     "metadata": {},
     "output_type": "display_data"
    }
   ],
   "source": [
    "rotate = np.array([0, -1,\n",
    "                   1,  0]).reshape(2, 2)\n",
    "plot_vectors([x, y, rotate.dot(x), rotate.dot(y)], [\"x\", \"y\", \"Rotate-x\", \"Rotate-y\"])"
   ]
  },
  {
   "cell_type": "code",
   "execution_count": 702,
   "metadata": {
    "collapsed": false
   },
   "outputs": [
    {
     "data": {
      "text/plain": [
       "<matplotlib.figure.Figure at 0x108994e10>"
      ]
     },
     "metadata": {},
     "output_type": "display_data"
    },
    {
     "data": {
      "image/png": "[encoded data removed]",
      "text/plain": [
       "<matplotlib.figure.Figure at 0x106fbd690>"
      ]
     },
     "metadata": {},
     "output_type": "display_data"
    }
   ],
   "source": [
    "# we can also combine the transformations\n",
    "both = rotate.dot(scale)\n",
    "plot_vectors([x, y, both.dot(x), both.dot(y)], [\"x\", \"y\", \"both-x\", \"both-y\"])"
   ]
  },
  {
   "cell_type": "markdown",
   "metadata": {},
   "source": [
    "What we really want to emphasize about matrix-vector multiplication is that it's just a series of repeated dot products, across all the rows of A."
   ]
  },
  {
   "cell_type": "markdown",
   "metadata": {},
   "source": [
    "## Matrix-matrix multiplication\n",
    "\n",
    "We're now ready for Matrix-Matrix Multiplication. Matrix-Matrix multiplication is pretty weird at first, and can be hard to keep in your head at times. But just like Matrix-vector multiplication, we did a whole bunch of dot products across rows, now we're going to do them across both **rows** and **columns**.\n",
    "\n",
    "If we say, $C = AB$, then $C$ is defined as:\n",
    "\n",
    "\\begin{align}\n",
    "    C_{i,j} = A_{i,:}\\cdot B_{:,j}\n",
    "\\end{align}\n",
    "\n",
    "Which is to say:\n",
    "- $C_{0,0}$ is the dot product between the 0th **row** of A, and the 0th **column** of B;\n",
    "- $C_{1,0}$ is the dot product between the 1st row of A, and the 0th column of B;\n",
    "\n",
    "Remember how the dot product requires vectorsto have the same number of dimensions? Well this goes for matrices two, but only on the inner index.\n",
    "\n",
    "so $A \\in R^{2\\times3}$ multiplies with $B \\in R^{3\\times4}$ and produces a $R^{2\\times4}$ matrix.\n",
    "\n",
    "This picture always helps me.\n",
    "![mm](https://www.mathsisfun.com/algebra/images/matrix-multiply-a.gif)"
   ]
  },
  {
   "cell_type": "code",
   "execution_count": 703,
   "metadata": {
    "collapsed": false
   },
   "outputs": [
    {
     "data": {
      "text/plain": [
       "array([[1, 2, 3],\n",
       "       [4, 5, 6]])"
      ]
     },
     "execution_count": 703,
     "metadata": {},
     "output_type": "execute_result"
    }
   ],
   "source": [
    "A = np.array([1, 2, 3, 4, 5, 6]).reshape(2, 3)\n",
    "A"
   ]
  },
  {
   "cell_type": "code",
   "execution_count": 704,
   "metadata": {
    "collapsed": false
   },
   "outputs": [
    {
     "data": {
      "text/plain": [
       "array([[ 7,  8],\n",
       "       [ 9, 10],\n",
       "       [11, 12]])"
      ]
     },
     "execution_count": 704,
     "metadata": {},
     "output_type": "execute_result"
    }
   ],
   "source": [
    "B = np.array([7, 8, 9, 10, 11, 12]).reshape(3, 2)\n",
    "B"
   ]
  },
  {
   "cell_type": "code",
   "execution_count": 705,
   "metadata": {
    "collapsed": false
   },
   "outputs": [
    {
     "data": {
      "text/plain": [
       "array([[ 58,  64],\n",
       "       [139, 154]])"
      ]
     },
     "execution_count": 705,
     "metadata": {},
     "output_type": "execute_result"
    }
   ],
   "source": [
    "A.dot(B)\n",
    "# = [\n",
    "#   1 * 7 + 2 * 9 + 3 * 11       1 * 8 + 2 * 10 + 3 * 12\n",
    "#   4 * 7 + 5 * 9 + 6 * 11       4 * 8 + 5 * 10 + 6 * 12\n",
    "#]"
   ]
  },
  {
   "cell_type": "code",
   "execution_count": 706,
   "metadata": {
    "collapsed": false
   },
   "outputs": [
    {
     "data": {
      "text/plain": [
       "(2, 3)"
      ]
     },
     "execution_count": 706,
     "metadata": {},
     "output_type": "execute_result"
    }
   ],
   "source": [
    "# But the inner dimension has to line up\n",
    "A.shape # has 3 in the right"
   ]
  },
  {
   "cell_type": "code",
   "execution_count": 707,
   "metadata": {
    "collapsed": false
   },
   "outputs": [
    {
     "data": {
      "text/plain": [
       "(3, 2)"
      ]
     },
     "execution_count": 707,
     "metadata": {},
     "output_type": "execute_result"
    }
   ],
   "source": [
    "B.shape # has 3 in the left\n",
    "\n",
    "# so we can do AB. Yay!"
   ]
  },
  {
   "cell_type": "markdown",
   "metadata": {},
   "source": [
    "## Matrix multiplication is *not commutative*"
   ]
  },
  {
   "cell_type": "code",
   "execution_count": 708,
   "metadata": {
    "collapsed": false
   },
   "outputs": [
    {
     "data": {
      "text/plain": [
       "array([[ 58,  64],\n",
       "       [139, 154]])"
      ]
     },
     "execution_count": 708,
     "metadata": {},
     "output_type": "execute_result"
    }
   ],
   "source": [
    "# But what about the other around?\n",
    "A.dot(B)"
   ]
  },
  {
   "cell_type": "code",
   "execution_count": 709,
   "metadata": {
    "collapsed": false
   },
   "outputs": [
    {
     "data": {
      "text/plain": [
       "array([[ 39,  54,  69],\n",
       "       [ 49,  68,  87],\n",
       "       [ 59,  82, 105]])"
      ]
     },
     "execution_count": 709,
     "metadata": {},
     "output_type": "execute_result"
    }
   ],
   "source": [
    "B.dot(A)\n",
    "# not even the same size, let alone same answer!"
   ]
  },
  {
   "cell_type": "markdown",
   "metadata": {},
   "source": [
    "But it is **distributive** and **associative**."
   ]
  },
  {
   "cell_type": "code",
   "execution_count": 711,
   "metadata": {
    "collapsed": false
   },
   "outputs": [
    {
     "data": {
      "text/plain": [
       "array([[ True,  True],\n",
       "       [ True,  True]], dtype=bool)"
      ]
     },
     "execution_count": 711,
     "metadata": {},
     "output_type": "execute_result"
    }
   ],
   "source": [
    "# but it is distributive:\n",
    "C = np.array([1, 1, 1,\n",
    "              1, 1, 1]).reshape(2, 3)\n",
    "((A + C).dot(B) == \n",
    " (A.dot(B) + C.dot(B)))"
   ]
  },
  {
   "cell_type": "code",
   "execution_count": 714,
   "metadata": {
    "collapsed": false
   },
   "outputs": [
    {
     "data": {
      "text/plain": [
       "array([[ True,  True,  True],\n",
       "       [ True,  True,  True]], dtype=bool)"
      ]
     },
     "execution_count": 714,
     "metadata": {},
     "output_type": "execute_result"
    }
   ],
   "source": [
    "# And associative:\n",
    "A.dot(B.dot(C)) == (A.dot(B)).dot(C)"
   ]
  },
  {
   "cell_type": "markdown",
   "metadata": {},
   "source": [
    "### Transpose\n",
    "Another useful operation is the Transpose. The transpose $A^\\top$ is to \"switch\" the matrix's indices."
   ]
  },
  {
   "cell_type": "code",
   "execution_count": 715,
   "metadata": {
    "collapsed": false
   },
   "outputs": [
    {
     "data": {
      "text/plain": [
       "array([[ 7,  8],\n",
       "       [ 9, 10],\n",
       "       [11, 12]])"
      ]
     },
     "execution_count": 715,
     "metadata": {},
     "output_type": "execute_result"
    }
   ],
   "source": [
    "B"
   ]
  },
  {
   "cell_type": "code",
   "execution_count": 716,
   "metadata": {
    "collapsed": false
   },
   "outputs": [
    {
     "data": {
      "text/plain": [
       "array([[ 7,  9, 11],\n",
       "       [ 8, 10, 12]])"
      ]
     },
     "execution_count": 716,
     "metadata": {},
     "output_type": "execute_result"
    }
   ],
   "source": [
    "B.T"
   ]
  },
  {
   "cell_type": "markdown",
   "metadata": {},
   "source": [
    "We should also note that this transpose operation allows us to switch something between a column vector and a row vector. Therefore, for some vectors ${\\bf x}$ and ${\\bf y}$, a more common notation in papers for the dot product is:\n",
    "\n",
    "\\begin{align}\n",
    "{\\bf x}\\cdot{\\bf y} = {\\bf x}^\\top{\\bf y}\n",
    "\\end{align}\n",
    "\n",
    "Why does that work? Because of the a $1\\times n$ matrix multiplied by a $n \\times 1$ matrix gives a $1 \\times 1$ matrix, which is a scalar. It's all circular, and there are multiple ways to look at it!"
   ]
  },
  {
   "cell_type": "markdown",
   "metadata": {},
   "source": [
    "## Special Matrices\n",
    "There's a handful of special types of matrices worth mentioning. We already mentioned one: a **square** matrix has the same number of rows and columns.\n",
    "\n",
    "A **diagonal matrix** has all zeros, except along the diagonal. Diagonal matrices need not be square, but they usually are."
   ]
  },
  {
   "cell_type": "code",
   "execution_count": 717,
   "metadata": {
    "collapsed": false
   },
   "outputs": [
    {
     "data": {
      "text/plain": [
       "array([[2, 0, 0],\n",
       "       [0, 3, 0],\n",
       "       [0, 0, 8]])"
      ]
     },
     "execution_count": 717,
     "metadata": {},
     "output_type": "execute_result"
    }
   ],
   "source": [
    "D = np.diag([2, 3, 8])\n",
    "D\n",
    "# nonzero only along the diagonal"
   ]
  },
  {
   "cell_type": "code",
   "execution_count": 718,
   "metadata": {
    "collapsed": false
   },
   "outputs": [
    {
     "data": {
      "text/plain": [
       "array([2, 3, 8])"
      ]
     },
     "execution_count": 718,
     "metadata": {},
     "output_type": "execute_result"
    }
   ],
   "source": [
    "# use np.diag to find the diagonal elements.\n",
    "np.diag(D)"
   ]
  },
  {
   "cell_type": "markdown",
   "metadata": {},
   "source": [
    "A **symmetric** matrix is equal to its own transpose. They're useful for when the order of arguments doesn't matter, and can be stored more efficiently, though we don't often go through the trouble."
   ]
  },
  {
   "cell_type": "code",
   "execution_count": 720,
   "metadata": {
    "collapsed": false
   },
   "outputs": [
    {
     "data": {
      "text/plain": [
       "array([[1, 2],\n",
       "       [2, 1]])"
      ]
     },
     "execution_count": 720,
     "metadata": {},
     "output_type": "execute_result"
    }
   ],
   "source": [
    "S = np.array([1, 2,\n",
    "              2, 1]).reshape(2, 2)\n",
    "S"
   ]
  },
  {
   "cell_type": "code",
   "execution_count": 721,
   "metadata": {
    "collapsed": false
   },
   "outputs": [
    {
     "data": {
      "text/plain": [
       "array([[1, 2],\n",
       "       [2, 1]])"
      ]
     },
     "execution_count": 721,
     "metadata": {},
     "output_type": "execute_result"
    }
   ],
   "source": [
    "S.T"
   ]
  },
  {
   "cell_type": "markdown",
   "metadata": {},
   "source": [
    "Finally, there's the **Identity matrix**, which is a diagonal matrix whose nonzero values are one. Again, the identity matrix doesn't *have* to be square, but it almost always is. They're special because all matrices are idempotent in multiplication with the identity matrix. They're the equivalent of \"multiplying by 1\" in algebra."
   ]
  },
  {
   "cell_type": "code",
   "execution_count": 722,
   "metadata": {
    "collapsed": false
   },
   "outputs": [
    {
     "data": {
      "text/plain": [
       "array([[ 1.,  0.,  0.],\n",
       "       [ 0.,  1.,  0.],\n",
       "       [ 0.,  0.,  1.]])"
      ]
     },
     "execution_count": 722,
     "metadata": {},
     "output_type": "execute_result"
    }
   ],
   "source": [
    "I = np.eye(3) # make a 3x3 identity matrix\n",
    "I"
   ]
  },
  {
   "cell_type": "code",
   "execution_count": 723,
   "metadata": {
    "collapsed": false
   },
   "outputs": [
    {
     "data": {
      "text/plain": [
       "array([[ 1.,  2.,  3.],\n",
       "       [ 4.,  5.,  6.],\n",
       "       [ 7.,  8.,  9.]])"
      ]
     },
     "execution_count": 723,
     "metadata": {},
     "output_type": "execute_result"
    }
   ],
   "source": [
    "B = np.array([1, 2, 3,\n",
    "              4, 5, 6,\n",
    "              7, 8, 9]).reshape(3, 3)\n",
    "B.dot(I)"
   ]
  },
  {
   "cell_type": "markdown",
   "metadata": {},
   "source": [
    "This also brings up **matrix inverses**, $A^{-1}$. The *inverse* of a matrix A multiplied by A gives the identity matrix. This is *roughly* the matrix-equivalent of division. Just like 3/3 = 1, we have:\n",
    "\n",
    "\\begin{align}\n",
    "    AA^{-1} = I\\\\\n",
    "    A^{-1}A = I\n",
    "\\end{align} \n",
    "\n",
    "Matrix inverses are only defined for square matrices, though there is a generalization called the Moore-Penrose Pseudoinverse, which we will not cover here."
   ]
  },
  {
   "cell_type": "code",
   "execution_count": 724,
   "metadata": {
    "collapsed": false
   },
   "outputs": [
    {
     "data": {
      "text/plain": [
       "array([[ 0.51706641,  0.26425769,  0.95885096,  0.06944085],\n",
       "       [ 0.2985238 ,  0.99317491,  0.82751013,  0.87166016],\n",
       "       [ 0.37154277,  0.32244945,  0.59136661,  0.70020566],\n",
       "       [ 0.23764522,  0.75019798,  0.46432511,  0.45950399]])"
      ]
     },
     "execution_count": 724,
     "metadata": {},
     "output_type": "execute_result"
    }
   ],
   "source": [
    "R = np.random.rand(4, 4)\n",
    "R"
   ]
  },
  {
   "cell_type": "code",
   "execution_count": 725,
   "metadata": {
    "collapsed": false
   },
   "outputs": [
    {
     "data": {
      "text/plain": [
       "array([[  1.00000000e+00,   1.77635684e-15,   8.88178420e-16,   8.88178420e-16],\n",
       "       [ -1.11022302e-16,   1.00000000e+00,  -2.22044605e-16,  -1.66533454e-16],\n",
       "       [ -2.22044605e-16,  -4.44089210e-16,   1.00000000e+00,   0.00000000e+00],\n",
       "       [  1.66533454e-16,   0.00000000e+00,   1.11022302e-16,   1.00000000e+00]])"
      ]
     },
     "execution_count": 725,
     "metadata": {},
     "output_type": "execute_result"
    }
   ],
   "source": [
    "# The inverse is very slow, and you probably don't want to use it in practice, but let's see how it works.\n",
    "np.set_printoptions(suppress=False) # needed to illustrate instability\n",
    "Rinv = np.linalg.inv(R)\n",
    "Rinv.dot(R)\n",
    "# notice all the elements that are close to zero but *not quite*? That's numerical instability."
   ]
  },
  {
   "cell_type": "code",
   "execution_count": 726,
   "metadata": {
    "collapsed": false
   },
   "outputs": [
    {
     "data": {
      "text/plain": [
       "array([[  1.00000000e+00,   4.44089210e-16,   0.00000000e+00,   0.00000000e+00],\n",
       "       [ -1.66533454e-16,   1.00000000e+00,   3.33066907e-16,   0.00000000e+00],\n",
       "       [ -1.14491749e-16,   0.00000000e+00,   1.00000000e+00,   0.00000000e+00],\n",
       "       [ -4.16333634e-17,   2.22044605e-16,  -2.22044605e-16,   1.00000000e+00]])"
      ]
     },
     "execution_count": 726,
     "metadata": {},
     "output_type": "execute_result"
    }
   ],
   "source": [
    "R.dot(Rinv)\n",
    "# it goes the other way around too"
   ]
  },
  {
   "cell_type": "markdown",
   "metadata": {},
   "source": [
    "### Unitary matrices\n",
    "\n",
    "There's also a very special class of matrices, called *unitary matrices*, or *orthonormal matrices*, of which their *transpose* is their *inverse*.\n",
    "\n",
    "\\begin{align}\n",
    "    U^\\top = U^{-1}\\\\\n",
    "    UU^\\top = I\\\\\n",
    "    U^\\top U = I\n",
    "\\end{align}\n",
    "\n",
    "(Technically, unitary matrices are the for matrices of complex numbers; orthonormal is a subset of unitary matrices which are real numbers)."
   ]
  },
  {
   "cell_type": "code",
   "execution_count": 729,
   "metadata": {
    "collapsed": false
   },
   "outputs": [
    {
     "data": {
      "text/plain": [
       "array([[ 1., -0.,  0., -0.,  0.],\n",
       "       [-0.,  1., -0.,  0.,  0.],\n",
       "       [ 0., -0.,  1., -0., -0.],\n",
       "       [-0.,  0., -0.,  1., -0.],\n",
       "       [ 0.,  0., -0., -0.,  1.]])"
      ]
     },
     "execution_count": 729,
     "metadata": {},
     "output_type": "execute_result"
    }
   ],
   "source": [
    "# go back to suppressing scientific notation\n",
    "np.set_printoptions(suppress=True)\n",
    "\n",
    "# never mind the man behind the curtain, just generating a random unitary matrix!\n",
    "U = np.linalg.qr(np.random.rand(5,5))[0]\n",
    "\n",
    "U.dot(U.T)\n",
    "# And let's see if U.dot(U.T) is approximately the identity"
   ]
  },
  {
   "cell_type": "markdown",
   "metadata": {},
   "source": [
    "# Norms and Unit Vectors\n",
    "\n",
    "Okay so we've covered the basic linear algebra operations, and some special kinds of matrices. Let's return to vectors, and visit some of the common \"relationships\" you see.\n",
    "\n",
    "### Norms\n",
    "\n",
    "Norms measure the \"length\" of a vector. There are countless types (it's an entire class of mathematical objects), but there's two you tend to see often in the ML literature.\n",
    "\n",
    "The most common norm is the **2-norm**. This is also known as the **magnitude**.\n",
    "\n",
    "\\begin{align}\n",
    "    \\|{\\bf x}\\|_2 = \\|{\\bf x}\\| = \\sqrt{\\sum_{i}x_i^2}\n",
    "\\end{align}\n",
    "\n",
    "This is also related to **Euclidean distance** between two vectors, which is what you're used to seeing in geometry class. Remember how the shortest path between two points is a straight line? Well the distance between two points is the **2-norm** of their difference! Or put another way, the 2-norm of a vector is the euclidean distance to the origin. Circular!\n",
    "\n",
    "\\begin{align}\n",
    "    \\text{Euclid}({\\bf x}, {\\bf y}) = \\|{\\bf x} - {\\bf y}\\|\n",
    "\\end{align}\n",
    "\n",
    "There's also the 1-norm, which uses the sum of the absolute value. It's also called Manhattan distance or Taxi cab distance, because it's the shortest distance along blocks.\n",
    "\\begin{align}\n",
    "    \\|{\\bf x}\\|_1 = \\sum_{i}\\text{abs}(x_i)\n",
    "\\end{align}\n",
    "\n",
    "This picture illustrates it pretty well. Red, yellow and blue are all equivalent, and they're Manhattan distance. The Green line is Euclidean distance.\n",
    "\n",
    "![manhattan vs euclidean distance](https://upload.wikimedia.org/wikipedia/commons/thumb/0/08/Manhattan_distance.svg/300px-Manhattan_distance.svg.png)\n",
    "\n",
    "But wait, there's more! We can also define the l2-norm in terms of the dot product!\n",
    "\\begin{align}\n",
    "    \\|{\\bf x}\\| = \\sqrt{{\\bf x}^\\top {\\bf x}}\n",
    "\\end{align}\n",
    "\n",
    "## Unit Vectors\n",
    "\n",
    "There's also a special class of vectors, called the **unit vectors**, which are vectors whose magnitude (l2-norm) is 1. These vectors lie on the \"unit ball\", the hypersphere which has a radius of 1.\n",
    "\n",
    "![unit ball](http://mathworld.wolfram.com/images/eps-gif/UnitSphere_800.gif)\n",
    "\n",
    "We can turn any vector ${\\bf x}$ into a normal vector, by dividing by its length. This is usually called *normalization*, but sometimes this term is overloaded to have other meanings.\n",
    "\n",
    "\\begin{align}\n",
    "    {\\bf u} = \\frac{{\\bf x}}{\\|{\\bf x}\\|}\n",
    "\\end{align}"
   ]
  },
  {
   "cell_type": "code",
   "execution_count": 731,
   "metadata": {
    "collapsed": false
   },
   "outputs": [
    {
     "data": {
      "text/plain": [
       "5.0990195135927845"
      ]
     },
     "execution_count": 731,
     "metadata": {},
     "output_type": "execute_result"
    }
   ],
   "source": [
    "x = np.array([1, 4, 3])\n",
    "np.sqrt(x.dot(x))\n",
    "# check the magnitude of the vector"
   ]
  },
  {
   "cell_type": "code",
   "execution_count": 735,
   "metadata": {
    "collapsed": true
   },
   "outputs": [],
   "source": [
    "# let's normalize its length\n",
    "ux = x / np.sqrt(x.dot(x))\n",
    "# now it has a length of one"
   ]
  },
  {
   "cell_type": "code",
   "execution_count": 734,
   "metadata": {
    "collapsed": false
   },
   "outputs": [
    {
     "data": {
      "text/plain": [
       "1.0"
      ]
     },
     "execution_count": 734,
     "metadata": {},
     "output_type": "execute_result"
    }
   ],
   "source": [
    "np.sqrt(ux.dot(ux))"
   ]
  },
  {
   "cell_type": "markdown",
   "metadata": {},
   "source": [
    "## Cosine similarity\n",
    "\n",
    "The last measure we'll talk about is **cosine similarity**, which measures the **angle between the vectors**. That is, it is a way of measuring distance between two vectors while controlling for the length of each vector. This picture shows the difference between Euclidean distance and cosine similarity.\n",
    "\n",
    "![cosine](http://semanticvoid.com/images/cosine_similarity.png)\n",
    "\n",
    "Euclidean distance is always 0 or positive, but can range infinitely high. Cosine, on the other hand, has a **range of only -1 to 1.**\n",
    "\n",
    "\\begin{align}\n",
    "\\text{cosine}({\\bf x}, {\\bf y}) =  \\frac{{\\bf x}^\\top {\\bf y}}{\\sqrt{\\|{\\bf x}\\|\\|{\\bf y}\\|}}\n",
    "\\end{align}\n",
    "\n",
    "That is, cosine is the *dot product* after the vectors have been *normalized*.\n",
    "\n",
    "When vectors have a cosine of 1, they are perfectly similar: these vectors point in exactly the same way, except their lengths may be different.\n",
    "\n",
    "When vectors have a cosine of 0, they are said to be **orthogonal**. That is, they are at **right angles** of each other.\n",
    "\n",
    "When vectors have a cosine of -1, they point in exactly opposite directions."
   ]
  },
  {
   "cell_type": "code",
   "execution_count": 740,
   "metadata": {
    "collapsed": false
   },
   "outputs": [
    {
     "data": {
      "text/plain": [
       "0.70710678118654746"
      ]
     },
     "execution_count": 740,
     "metadata": {},
     "output_type": "execute_result"
    }
   ],
   "source": [
    "def norm(x):\n",
    "    return x / np.sqrt(x.dot(x)) \n",
    "\n",
    "def cosine(x, y):\n",
    "    return norm(x).dot(norm(y))\n",
    "\n",
    "x = np.array([1, 3])\n",
    "y = np.array([4, 2])\n",
    "cosine(x, y)"
   ]
  },
  {
   "cell_type": "code",
   "execution_count": 741,
   "metadata": {
    "collapsed": false
   },
   "outputs": [
    {
     "data": {
      "text/plain": [
       "<matplotlib.figure.Figure at 0x107aad790>"
      ]
     },
     "metadata": {},
     "output_type": "display_data"
    },
    {
     "data": {
      "image/png": "[encoded data removed]",
      "text/plain": [
       "<matplotlib.figure.Figure at 0x1089a1110>"
      ]
     },
     "metadata": {},
     "output_type": "display_data"
    }
   ],
   "source": [
    "plot_vectors([norm(x), norm(y), x, y], [\"ux\", \"uy\", \"x\", \"y\"])"
   ]
  },
  {
   "cell_type": "markdown",
   "metadata": {},
   "source": [
    "# Singular Value Decomposition\n",
    "\n",
    "At this point, we want to introduce the Singular Value Decomposition, or the SVD. The SVD is a powerful theorem. It states that for **any given matrix** A, it has a **unique** factorization,\n",
    "\n",
    "\\begin{align}\n",
    "    A = U\\Sigma V^\\top\\\\\n",
    "\\end{align}\n",
    "\n",
    "such that $U$ and $V$ are unitary matrices, and $\\Sigma$ is a diagonal matrix. Whoa! This is phenomenal. So literally every matrix can be factorized into these three primative matrices which have nice properties! Seriously, one of the coolest theorems I've ever seen.\n",
    "\n",
    "The values along the diagonal of $\\Sigma$ are called the **singular values**. The columns of U are called the **left singular vectors**, and the rows of $V^\\top$ are the **right singular vectors**.\n",
    "\n",
    "The values of $\\Sigma$ are (almost) *always* ordered in decreasing magnitude. That is, $\\Sigma_{0,0}$ has the largest singular value, $\\Sigma_{1,1}$ has the second largest, etc. This is part of the reason the SVD is unique: without this stipulation, the SVD would have $O(n^2)$ variations, one for each of the permutation nof the singular values.\n",
    "\n",
    "A caveat of this is one implementation in Numpy gives them in *reverse* order, which is incredibly annoying. Like seriously. Before we go more into interpretations or understanding it, we'll look to see how it's done in Numpy."
   ]
  },
  {
   "cell_type": "code",
   "execution_count": 742,
   "metadata": {
    "collapsed": false
   },
   "outputs": [
    {
     "data": {
      "text/plain": [
       "array([[-0.21969474,  0.15728163,  0.31513222,  0.34457965],\n",
       "       [-0.29777898,  0.56865193,  0.1026091 , -0.07980998],\n",
       "       [-0.25376617,  0.53065093,  0.1052538 ,  0.32129013],\n",
       "       [-0.38441626, -0.1397783 , -0.46734788, -0.09648322],\n",
       "       [-0.31073606, -0.55359324,  0.47351322,  0.44700964],\n",
       "       [-0.35277374, -0.15541121, -0.54363837,  0.2778405 ],\n",
       "       [-0.36705927, -0.14152066,  0.36894152, -0.67931542],\n",
       "       [-0.54327714, -0.01108438, -0.06924855, -0.15452016]])"
      ]
     },
     "execution_count": 742,
     "metadata": {},
     "output_type": "execute_result"
    }
   ],
   "source": [
    "# first generate a random 6x3 matrix, then perform the SVD over it.\n",
    "R = np.random.rand(8, 4)\n",
    "# a few caveats: numpy returns Vt directly, so don't try to take the transpose\n",
    "# Also, you almost always want full_matrices=False. This is because there are\n",
    "# some implied 0's in filling the \"smaller\" matrix\n",
    "U, S, Vt = np.linalg.svd(R, full_matrices=False)\n",
    "U\n",
    "# note that U has 6 rows and 2 columns."
   ]
  },
  {
   "cell_type": "code",
   "execution_count": 743,
   "metadata": {
    "collapsed": false
   },
   "outputs": [
    {
     "data": {
      "text/plain": [
       "array([ 3.02630515,  1.28562171,  0.65557079,  0.47683223])"
      ]
     },
     "execution_count": 743,
     "metadata": {},
     "output_type": "execute_result"
    }
   ],
   "source": [
    "S"
   ]
  },
  {
   "cell_type": "code",
   "execution_count": 744,
   "metadata": {
    "collapsed": false
   },
   "outputs": [
    {
     "data": {
      "text/plain": [
       "array([[-0.54540879, -0.49970241, -0.57178207, -0.35481265],\n",
       "       [ 0.69814529,  0.16079617, -0.513184  , -0.47263085],\n",
       "       [-0.01659164,  0.21962833, -0.63538604,  0.74011668],\n",
       "       [ 0.46351604, -0.82231714,  0.07740819,  0.32086659]])"
      ]
     },
     "execution_count": 744,
     "metadata": {},
     "output_type": "execute_result"
    }
   ],
   "source": [
    "Vt"
   ]
  },
  {
   "cell_type": "code",
   "execution_count": 746,
   "metadata": {
    "collapsed": false
   },
   "outputs": [
    {
     "data": {
      "text/plain": [
       "True"
      ]
     },
     "execution_count": 746,
     "metadata": {},
     "output_type": "execute_result"
    }
   ],
   "source": [
    "# a few caveats: Numpy returns V.T, not V, so no need to do V.T here\n",
    "np.allclose(R, U.dot(np.diag(S)).dot(Vt))"
   ]
  },
  {
   "cell_type": "markdown",
   "metadata": {},
   "source": [
    "Notice how all the singular values drop off pretty fast? This is a really common thing to see in your own analysis. If you don't see this, something is probably really wrong with the data. Here's a graph of one from some website claiming this is on real data. It's what I usually see in my data:\n",
    "\n",
    "![singular values](https://www.researchgate.net/profile/Pavel_Praks2/publication/237567849/figure/fig1/AS:298763131342848@1448242089760/Fig-2-Scree-plot-of-the-singular-values.png)"
   ]
  },
  {
   "cell_type": "markdown",
   "metadata": {},
   "source": [
    "## Interpretations of the SVD\n",
    "\n",
    "The most common interpretation of the SVD is the \"cigar\" interpretation. That is, Imagine our data is roughly shaped like a Cigar, rotated arbitrarily in space. The SVD finds the \"main axes\" of the cigar: the longest one (c in this picture) becomes the first left-singular vector, etc.\n",
    "\n",
    "![cigar](https://upload.wikimedia.org/wikipedia/commons/thumb/6/6d/Triaxial_Ellipsoid.jpg/400px-Triaxial_Ellipsoid.jpg)\n",
    "\n",
    "A picture of what each of the individual matrices does is here, though it's \"backwards\" from the way the SVD is usually used in data analysis.\n",
    "\n",
    "![svd](https://upload.wikimedia.org/wikipedia/commons/thumb/b/bb/Singular-Value-Decomposition.svg/300px-Singular-Value-Decomposition.svg.png)\n",
    "\n",
    "So while this picture shows how M transforms the unit ball, we usually think of it the other way around: give me the data projected onto the unit ball, or at least a simple ellipsoid.\n",
    "\n",
    "## Uses\n",
    "\n",
    "- The SVD is one (slow, unstable) way to find a matrix inverse! All three of these matrices can be inverted trivially (U and V by taking transpose, Sigma by inverting the diagonal).\n",
    "- The SVD is the [usual method](http://math.stackexchange.com/questions/3869/what-is-the-intuitive-relationship-between-svd-and-pca) which Principal Component Analysis is done. It is closely related to the Eigendecomposition, if anyone is interested in seeing this.\n",
    "- The SVD is frequently used in data analysis to perform dimensionality reduction. For example, say you have 10,000 features in your data matrix; you can perform the SVD to find the top 50 main components of the data, and use only this reduced representation in your system.\n",
    "\n",
    "## More on Dimensionality Reduction (how it's done)\n",
    "Dimensionality Reduction is frequently used in distributional semantics. While a distributional space may have like 20k or 1M features for every word in the vocabulary. This can be unruly to work with, and very noisy. So by performing the SVD, we can find the say, top 300 main components of the data, and model only these.\n",
    "\n",
    "Typically, when using the SVD for dimensionality reduction, you'll use only the top $K$ features, and zero out the remaining."
   ]
  },
  {
   "cell_type": "code",
   "execution_count": 756,
   "metadata": {
    "collapsed": false
   },
   "outputs": [
    {
     "data": {
      "text/plain": [
       "(100, 15)"
      ]
     },
     "execution_count": 756,
     "metadata": {},
     "output_type": "execute_result"
    }
   ],
   "source": [
    "# let's see some dimensionality reduction\n",
    "R = np.random.rand(100, 3)\n",
    "N = np.random.normal(0, 0.05, R.shape)\n",
    "# and for fun, let's say that M actually has the same 3 columns repeated over and over and over, with minor variatons\n",
    "\n",
    "M = np.concatenate([R, R, -R, 2*R, R + N], axis=1)\n",
    "M.shape\n",
    "# now M is a (100, 12)"
   ]
  },
  {
   "cell_type": "code",
   "execution_count": 757,
   "metadata": {
    "collapsed": false
   },
   "outputs": [
    {
     "data": {
      "text/plain": [
       "(100, 15)"
      ]
     },
     "execution_count": 757,
     "metadata": {},
     "output_type": "execute_result"
    }
   ],
   "source": [
    "U, S, Vt = np.linalg.svd(M, full_matrices=False)\n",
    "U.shape"
   ]
  },
  {
   "cell_type": "code",
   "execution_count": 758,
   "metadata": {
    "collapsed": false
   },
   "outputs": [
    {
     "data": {
      "image/png": "[encoded data removed]",
      "text/plain": [
       "<matplotlib.figure.Figure at 0x10755a190>"
      ]
     },
     "metadata": {},
     "output_type": "display_data"
    }
   ],
   "source": [
    "plt.clf()\n",
    "plt.plot(S)\n",
    "plt.show()"
   ]
  },
  {
   "cell_type": "code",
   "execution_count": 759,
   "metadata": {
    "collapsed": false
   },
   "outputs": [
    {
     "data": {
      "text/plain": [
       "array([ 26.08982698,   8.48865245,   7.25197229,   0.50979629,   0.48755794,   0.40483637,   0.        ,   0.        ,   0.        ,   0.        ,   0.        ,   0.        ,   0.        ,\n",
       "         0.        ,   0.        ])"
      ]
     },
     "execution_count": 759,
     "metadata": {},
     "output_type": "execute_result"
    }
   ],
   "source": [
    "S"
   ]
  },
  {
   "cell_type": "markdown",
   "metadata": {},
   "source": [
    "Hey look at that! The SVD immediately figured out there were some completely worthless dimensions in our data! Those all have a singular value of 0.\n",
    "\n",
    "But we know that our data really has only 3 dimensions, so why does it have 6? Well that's the random noise left over.\n",
    "We can try to drop that out by removing those singular values"
   ]
  },
  {
   "cell_type": "code",
   "execution_count": 760,
   "metadata": {
    "collapsed": false
   },
   "outputs": [],
   "source": [
    "S[3:] = 0\n",
    "\n",
    "Mreduced = U.dot(np.diag(S)).dot(Vt)[:,:3]"
   ]
  },
  {
   "cell_type": "code",
   "execution_count": 761,
   "metadata": {
    "collapsed": false
   },
   "outputs": [
    {
     "data": {
      "text/plain": [
       "array([[ 0.03218242,  0.38839865,  0.75755543],\n",
       "       [ 0.26781915,  0.92282949,  0.06027154],\n",
       "       [ 0.68652906,  0.17424214,  0.79347707],\n",
       "       [ 0.25603414,  0.35634365,  0.30618563],\n",
       "       [ 0.85028282,  0.91549486,  0.77725339],\n",
       "       [ 0.34992216,  0.79296471,  0.07543746],\n",
       "       [ 0.52065227,  0.4701467 ,  0.72268417],\n",
       "       [ 0.63155438,  0.05855961,  0.93068135],\n",
       "       [ 0.33191303,  0.87991512,  0.04269829],\n",
       "       [ 0.97524692,  0.27638259,  0.8101152 ]])"
      ]
     },
     "execution_count": 761,
     "metadata": {},
     "output_type": "execute_result"
    }
   ],
   "source": [
    "R[:10]"
   ]
  },
  {
   "cell_type": "code",
   "execution_count": 762,
   "metadata": {
    "collapsed": false
   },
   "outputs": [
    {
     "data": {
      "text/plain": [
       "array([[ 0.03075146,  0.3893247 ,  0.755392  ],\n",
       "       [ 0.26140432,  0.92779933,  0.04939463],\n",
       "       [ 0.6722148 ,  0.17423435,  0.79306987],\n",
       "       [ 0.25692225,  0.35649101,  0.31334753],\n",
       "       [ 0.84446395,  0.90324484,  0.78137926],\n",
       "       [ 0.35933168,  0.78921686,  0.06431634],\n",
       "       [ 0.51345231,  0.47742226,  0.71737831],\n",
       "       [ 0.64266482,  0.05718714,  0.93010685],\n",
       "       [ 0.33244562,  0.87666909,  0.03678776],\n",
       "       [ 0.99122206,  0.2711139 ,  0.80932199]])"
      ]
     },
     "execution_count": 762,
     "metadata": {},
     "output_type": "execute_result"
    }
   ],
   "source": [
    "Mreduced[:10]\n",
    "# low and behold, we've recovered the original R matrix with surprisingly high accuracy"
   ]
  },
  {
   "cell_type": "markdown",
   "metadata": {},
   "source": [
    "## Honorary Mentions\n",
    "\n",
    "### Eigendecomposition\n",
    "\n",
    "Understanding that matrices are a mixture of rotations, flips, skews and scales, the Eigendecomposition tries to find the \"fixed points\" of that matrix. That is, it finds the vectors which remain the same after the transformation.\n",
    "\n",
    "\\begin{align}\n",
    "    A{\\bf v} = \\lambda{\\bf v}\n",
    "\\end{align}\n",
    "\n",
    "Here, ${\\bf v}$ is an **eigenvector**, the vector that remains fixed, and $\\lambda$ is its corresponding **eigenvalue**, the amount by which ${\\bf v}$ is scaled under $A$.\n",
    "\n",
    "Matrices can have zero or more eigenvectors: not all matrices have eigendecompositions. An $n\\times n$ matrix has at most $n$ eigenvectors, but it could also have fewer.\n",
    "\n",
    "If we find all the eigenvectors, we can concatenate them into one matrix $Q$, and all the eigenvalues into one diagonal matrix $\\Lambda$.\n",
    "\n",
    "\\begin{align}\n",
    "    M = Q\\Lambda Q^{-1}\n",
    "\\end{align}\n",
    "\n",
    "This is the eigendecomposition. Unlike the SVD, the eigendecomposition is not guaranteed to exist, and $Q$ is not guaranteed to be unitary.\n",
    "\n",
    "The following gif from Wikipedia demonstrates the eigenvectors under the transformation ```[2 1; 1 2]```: The blue and purple vectors are the eigenvectors. They are not modified by the transformation $A$; they are simply scaled bigger or smaller. The red vectors, on the other hand, are distorted by the transformation.\n",
    "\n",
    "![eigen](https://upload.wikimedia.org/wikipedia/commons/a/ad/Eigenvectors-extended.gif)\n",
    "\n",
    "\n",
    "### scipy.sparse\n",
    "\n",
    "Sparse matrices are matrices with mostly 0's throughout. Typically they tend to be *extremely large*, and trying to work with them with all the 0's filled would be prohibitively slow. Sparse matrix libraries enable you to store and process them efficiently.\n",
    "\n",
    "One particular thing to note is the sparse svd function, which I use very often. It lets you specify exactly the number of dimensions you want to reduce to (so you don't compute more than you need to), and works on even extremely large matrices. The only annoying thing is it gives the singular values in reverse order. *grumble grumble*\n",
    "\n",
    "### scikit-learn\n",
    "\n",
    "scikit-learn or sklearn is a great machine learning library built on top of Numpy and other technologies. It's reasonably fast and has a very nice, consistent API: all algorithms have the same ```fit```, ```transform``` and ```fit_transform``` functions.\n",
    "\n"
   ]
  },
  {
   "cell_type": "markdown",
   "metadata": {},
   "source": [
    "# Other Good Resources\n",
    "\n",
    "- [Wikipedia](https://en.wikipedia.org/wiki/Linear_algebra)'s page is surprisingly complete and a good textbook reference\n",
    "- The new, free [Deep Learning Book](http://www.deeplearningbook.org/contents/linear_algebra.html) from Goodfellow, Bengio and Courville\n",
    "- I use [this book](http://www.amazon.com/Numerical-Linear-Algebra-Lloyd-Trefethen/dp/0898713617) as reference a lot, but only because I learned LA from this book."
   ]
  }
 ],
 "metadata": {
  "kernelspec": {
   "display_name": "Python 2",
   "language": "python",
   "name": "python2"
  },
  "language_info": {
   "codemirror_mode": {
    "name": "ipython",
    "version": 2
   },
   "file_extension": ".py",
   "mimetype": "text/x-python",
   "name": "python",
   "nbconvert_exporter": "python",
   "pygments_lexer": "ipython2",
   "version": "2.7.10"
  }
 },
 "nbformat": 4,
 "nbformat_minor": 0
}
